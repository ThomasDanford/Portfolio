{
 "cells": [
  {
   "cell_type": "markdown",
   "id": "71b5e0d3",
   "metadata": {},
   "source": [
    "## Real Estate Project - Municipality Screener\n",
    "---\n",
    "\n",
    "[Link to Power BI dashboard](https://app.powerbi.com/view?r=eyJrIjoiYWMxMWVkOWItMzg5Yy00YzU5LWFkNjAtMjM2NmQ5NzFmMDFmIiwidCI6IjU3YTZkZmMxLTI3MWUtNDIyNS1hYTMzLTFkNGM2ZmVhNjYxYSIsImMiOjh9)\n",
    "\n",
    "[Link to SQL code in GitHub](https://github.com/ThomasDanford/RealEstateProject/blob/main/Real%20Estate%20Project.sql)\n",
    "\n",
    "---\n",
    "\n",
    "### Summary\n",
    "\n",
    "* Purpose: **help identify municipalities in Finland that may show investment potential in residential real estate**\n",
    "* It uses demographic data to create four municipality rankings - income, jobs, population & overall - based on their 5-year growth (2015-2020)\n",
    "* These are paired with the change in prices over the same period, and can be used to identify potential areas where prices may not have yet reacted to positive demographic development\n",
    "\n",
    "---\n",
    "\n",
    "### How it was built\n",
    "\n",
    "The data was collected from Tilastokeskus, stored in a MySQL database, queried using DBeaver and visualized in PowerBI.\n",
    "\n",
    "Key steps in analysis:\n",
    "* Cleaning and restructuringoriginal data in SQL for best usability in visualization\n",
    "* Selecting the most suitable metrics to represent demographic categories\n",
    "* Creating the category rankings in SQL based on demographic data\n",
    "* Determining the best and most logical presentation method\n",
    "* Building the final visualizations in Power BI\n",
    "\n",
    "### 1. Exploratory Plot\n",
    "\n",
    "* A quick glance of demographic changes and price changes in one chart\n",
    "* Choose a ranking category for the y-axis and filter based on population or real estate type to find potential areas\n",
    "* Results are limited to the top-50 in each ranking category\n",
    "\n",
    "### 2. Municipality Look-up\n",
    "\n",
    "* Once you have identified interesting areas from the plot chart, use this page to look deeper into details about those areas\n",
    "* Shows how the three sub-categories impact the overall ranking, along with how the price change compares to the national average\n",
    "\n",
    "### 3. Data Table\n",
    "\n",
    "* View the data in depth and see category rankings beyond the top-50\n",
    "* Filter based on population and real estate type\n",
    "* Can be useful to find areas overlooked in the exploratory plot due to missing price information or areas with rankings just beyond the top-50"
   ]
  }
 ],
 "metadata": {
  "kernelspec": {
   "display_name": "Python 3 (ipykernel)",
   "language": "python",
   "name": "python3"
  },
  "language_info": {
   "codemirror_mode": {
    "name": "ipython",
    "version": 3
   },
   "file_extension": ".py",
   "mimetype": "text/x-python",
   "name": "python",
   "nbconvert_exporter": "python",
   "pygments_lexer": "ipython3",
   "version": "3.9.7"
  }
 },
 "nbformat": 4,
 "nbformat_minor": 5
}
